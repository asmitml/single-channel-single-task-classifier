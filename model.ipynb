{
 "cells": [
  {
   "attachments": {},
   "cell_type": "markdown",
   "metadata": {},
   "source": [
    "<span style=\"color:Red; font-size=60px\">\n",
    "now i have to make a binary classifier with a input of 1 channel and 250 instances\n",
    "</span>"
   ]
  },
  {
   "cell_type": "code",
   "execution_count": 1,
   "metadata": {},
   "outputs": [],
   "source": [
    "import tensorflow as tf\n",
    "import numpy as np\n",
    "import matplotlib.pyplot as plt\n",
    "from tensorflow import keras\n",
    "import datetime\n",
    "import scipy.fftpack\n",
    "\n",
    "#! defining the basic structure of the model\n",
    "#* this will take a input of 250 sample \n",
    "class eegmodel(keras.Model):\n",
    "    def __init__(self):\n",
    "        super().__init__()\n",
    "        self.dense1 = keras.layers.Dense(125, activation=tf.nn.relu)\n",
    "        self.dense2 = keras.layers.Dense(100, activation=tf.nn.relu)\n",
    "        self.dense3 = keras.layers.Dense(80, activation=tf.nn.relu)\n",
    "        self.dense4 = keras.layers.Dense(50, activation=tf.nn.relu)\n",
    "        self.dense5 = keras.layers.Dense(25, activation=tf.nn.relu)\n",
    "        self.dense6 = keras.layers.Dense(10, activation=tf.nn.relu)\n",
    "        self.dense7 = keras.layers.Dense(6, activation=tf.nn.relu)\n",
    "        self.dense8 = keras.layers.Dense(4, activation=tf.nn.relu)\n",
    "        self.out = keras.layers.Dense(1)\n",
    "\n",
    "    def call(self, inputs):\n",
    "        x = self.dense1(inputs)\n",
    "        x = self.dense2(x)\n",
    "        x = self.dense3(x)\n",
    "        x = self.dense4(x)\n",
    "        x = self.dense5(x)\n",
    "        x = self.dense6(x)\n",
    "        x = self.dense7(x)\n",
    "        x = self.dense8(x)\n",
    "        return self.out(x)\n",
    "\n"
   ]
  },
  {
   "attachments": {},
   "cell_type": "markdown",
   "metadata": {},
   "source": [
    "# this is for handstart only"
   ]
  },
  {
   "cell_type": "code",
   "execution_count": 2,
   "metadata": {},
   "outputs": [],
   "source": [
    "import pandas as pd\n",
    "import numpy as np"
   ]
  },
  {
   "cell_type": "code",
   "execution_count": 3,
   "metadata": {},
   "outputs": [],
   "source": [
    "dftraintotal = pd.read_csv(\"./data/subj1_series1_data.csv\")"
   ]
  },
  {
   "cell_type": "code",
   "execution_count": 4,
   "metadata": {},
   "outputs": [
    {
     "data": {
      "text/html": [
       "<div>\n",
       "<style scoped>\n",
       "    .dataframe tbody tr th:only-of-type {\n",
       "        vertical-align: middle;\n",
       "    }\n",
       "\n",
       "    .dataframe tbody tr th {\n",
       "        vertical-align: top;\n",
       "    }\n",
       "\n",
       "    .dataframe thead th {\n",
       "        text-align: right;\n",
       "    }\n",
       "</style>\n",
       "<table border=\"1\" class=\"dataframe\">\n",
       "  <thead>\n",
       "    <tr style=\"text-align: right;\">\n",
       "      <th></th>\n",
       "      <th>id</th>\n",
       "      <th>Fp1</th>\n",
       "      <th>Fp2</th>\n",
       "      <th>F7</th>\n",
       "      <th>F3</th>\n",
       "      <th>Fz</th>\n",
       "      <th>F4</th>\n",
       "      <th>F8</th>\n",
       "      <th>FC5</th>\n",
       "      <th>FC1</th>\n",
       "      <th>...</th>\n",
       "      <th>P7</th>\n",
       "      <th>P3</th>\n",
       "      <th>Pz</th>\n",
       "      <th>P4</th>\n",
       "      <th>P8</th>\n",
       "      <th>PO9</th>\n",
       "      <th>O1</th>\n",
       "      <th>Oz</th>\n",
       "      <th>O2</th>\n",
       "      <th>PO10</th>\n",
       "    </tr>\n",
       "  </thead>\n",
       "  <tbody>\n",
       "    <tr>\n",
       "      <th>0</th>\n",
       "      <td>subj1_series1_0</td>\n",
       "      <td>-31</td>\n",
       "      <td>363</td>\n",
       "      <td>211</td>\n",
       "      <td>121</td>\n",
       "      <td>211</td>\n",
       "      <td>15</td>\n",
       "      <td>717</td>\n",
       "      <td>279</td>\n",
       "      <td>35</td>\n",
       "      <td>...</td>\n",
       "      <td>536</td>\n",
       "      <td>348</td>\n",
       "      <td>383</td>\n",
       "      <td>105</td>\n",
       "      <td>607</td>\n",
       "      <td>289</td>\n",
       "      <td>459</td>\n",
       "      <td>173</td>\n",
       "      <td>120</td>\n",
       "      <td>704</td>\n",
       "    </tr>\n",
       "    <tr>\n",
       "      <th>1</th>\n",
       "      <td>subj1_series1_1</td>\n",
       "      <td>-29</td>\n",
       "      <td>342</td>\n",
       "      <td>216</td>\n",
       "      <td>123</td>\n",
       "      <td>222</td>\n",
       "      <td>200</td>\n",
       "      <td>595</td>\n",
       "      <td>329</td>\n",
       "      <td>43</td>\n",
       "      <td>...</td>\n",
       "      <td>529</td>\n",
       "      <td>327</td>\n",
       "      <td>369</td>\n",
       "      <td>78</td>\n",
       "      <td>613</td>\n",
       "      <td>248</td>\n",
       "      <td>409</td>\n",
       "      <td>141</td>\n",
       "      <td>83</td>\n",
       "      <td>737</td>\n",
       "    </tr>\n",
       "    <tr>\n",
       "      <th>2</th>\n",
       "      <td>subj1_series1_2</td>\n",
       "      <td>-172</td>\n",
       "      <td>278</td>\n",
       "      <td>105</td>\n",
       "      <td>93</td>\n",
       "      <td>222</td>\n",
       "      <td>511</td>\n",
       "      <td>471</td>\n",
       "      <td>280</td>\n",
       "      <td>12</td>\n",
       "      <td>...</td>\n",
       "      <td>511</td>\n",
       "      <td>319</td>\n",
       "      <td>355</td>\n",
       "      <td>66</td>\n",
       "      <td>606</td>\n",
       "      <td>320</td>\n",
       "      <td>440</td>\n",
       "      <td>141</td>\n",
       "      <td>62</td>\n",
       "      <td>677</td>\n",
       "    </tr>\n",
       "    <tr>\n",
       "      <th>3</th>\n",
       "      <td>subj1_series1_3</td>\n",
       "      <td>-272</td>\n",
       "      <td>263</td>\n",
       "      <td>-52</td>\n",
       "      <td>99</td>\n",
       "      <td>208</td>\n",
       "      <td>511</td>\n",
       "      <td>428</td>\n",
       "      <td>261</td>\n",
       "      <td>27</td>\n",
       "      <td>...</td>\n",
       "      <td>521</td>\n",
       "      <td>336</td>\n",
       "      <td>356</td>\n",
       "      <td>71</td>\n",
       "      <td>568</td>\n",
       "      <td>339</td>\n",
       "      <td>437</td>\n",
       "      <td>139</td>\n",
       "      <td>58</td>\n",
       "      <td>592</td>\n",
       "    </tr>\n",
       "    <tr>\n",
       "      <th>4</th>\n",
       "      <td>subj1_series1_4</td>\n",
       "      <td>-265</td>\n",
       "      <td>213</td>\n",
       "      <td>-67</td>\n",
       "      <td>99</td>\n",
       "      <td>155</td>\n",
       "      <td>380</td>\n",
       "      <td>476</td>\n",
       "      <td>353</td>\n",
       "      <td>32</td>\n",
       "      <td>...</td>\n",
       "      <td>550</td>\n",
       "      <td>324</td>\n",
       "      <td>346</td>\n",
       "      <td>76</td>\n",
       "      <td>547</td>\n",
       "      <td>343</td>\n",
       "      <td>446</td>\n",
       "      <td>171</td>\n",
       "      <td>67</td>\n",
       "      <td>581</td>\n",
       "    </tr>\n",
       "    <tr>\n",
       "      <th>...</th>\n",
       "      <td>...</td>\n",
       "      <td>...</td>\n",
       "      <td>...</td>\n",
       "      <td>...</td>\n",
       "      <td>...</td>\n",
       "      <td>...</td>\n",
       "      <td>...</td>\n",
       "      <td>...</td>\n",
       "      <td>...</td>\n",
       "      <td>...</td>\n",
       "      <td>...</td>\n",
       "      <td>...</td>\n",
       "      <td>...</td>\n",
       "      <td>...</td>\n",
       "      <td>...</td>\n",
       "      <td>...</td>\n",
       "      <td>...</td>\n",
       "      <td>...</td>\n",
       "      <td>...</td>\n",
       "      <td>...</td>\n",
       "      <td>...</td>\n",
       "    </tr>\n",
       "    <tr>\n",
       "      <th>119491</th>\n",
       "      <td>subj1_series1_119491</td>\n",
       "      <td>478</td>\n",
       "      <td>520</td>\n",
       "      <td>377</td>\n",
       "      <td>172</td>\n",
       "      <td>141</td>\n",
       "      <td>118</td>\n",
       "      <td>-123</td>\n",
       "      <td>626</td>\n",
       "      <td>70</td>\n",
       "      <td>...</td>\n",
       "      <td>383</td>\n",
       "      <td>85</td>\n",
       "      <td>-1</td>\n",
       "      <td>444</td>\n",
       "      <td>337</td>\n",
       "      <td>-255</td>\n",
       "      <td>160</td>\n",
       "      <td>-121</td>\n",
       "      <td>-285</td>\n",
       "      <td>-178</td>\n",
       "    </tr>\n",
       "    <tr>\n",
       "      <th>119492</th>\n",
       "      <td>subj1_series1_119492</td>\n",
       "      <td>439</td>\n",
       "      <td>450</td>\n",
       "      <td>298</td>\n",
       "      <td>185</td>\n",
       "      <td>128</td>\n",
       "      <td>502</td>\n",
       "      <td>-331</td>\n",
       "      <td>593</td>\n",
       "      <td>30</td>\n",
       "      <td>...</td>\n",
       "      <td>334</td>\n",
       "      <td>61</td>\n",
       "      <td>-8</td>\n",
       "      <td>427</td>\n",
       "      <td>322</td>\n",
       "      <td>-310</td>\n",
       "      <td>107</td>\n",
       "      <td>-152</td>\n",
       "      <td>-295</td>\n",
       "      <td>-178</td>\n",
       "    </tr>\n",
       "    <tr>\n",
       "      <th>119493</th>\n",
       "      <td>subj1_series1_119493</td>\n",
       "      <td>363</td>\n",
       "      <td>370</td>\n",
       "      <td>278</td>\n",
       "      <td>239</td>\n",
       "      <td>124</td>\n",
       "      <td>768</td>\n",
       "      <td>-410</td>\n",
       "      <td>527</td>\n",
       "      <td>16</td>\n",
       "      <td>...</td>\n",
       "      <td>303</td>\n",
       "      <td>53</td>\n",
       "      <td>-24</td>\n",
       "      <td>438</td>\n",
       "      <td>368</td>\n",
       "      <td>-134</td>\n",
       "      <td>187</td>\n",
       "      <td>-99</td>\n",
       "      <td>-269</td>\n",
       "      <td>-121</td>\n",
       "    </tr>\n",
       "    <tr>\n",
       "      <th>119494</th>\n",
       "      <td>subj1_series1_119494</td>\n",
       "      <td>281</td>\n",
       "      <td>298</td>\n",
       "      <td>318</td>\n",
       "      <td>257</td>\n",
       "      <td>130</td>\n",
       "      <td>736</td>\n",
       "      <td>-556</td>\n",
       "      <td>542</td>\n",
       "      <td>29</td>\n",
       "      <td>...</td>\n",
       "      <td>341</td>\n",
       "      <td>50</td>\n",
       "      <td>-25</td>\n",
       "      <td>444</td>\n",
       "      <td>348</td>\n",
       "      <td>-135</td>\n",
       "      <td>181</td>\n",
       "      <td>-122</td>\n",
       "      <td>-290</td>\n",
       "      <td>-77</td>\n",
       "    </tr>\n",
       "    <tr>\n",
       "      <th>119495</th>\n",
       "      <td>subj1_series1_119495</td>\n",
       "      <td>242</td>\n",
       "      <td>266</td>\n",
       "      <td>234</td>\n",
       "      <td>176</td>\n",
       "      <td>135</td>\n",
       "      <td>617</td>\n",
       "      <td>-622</td>\n",
       "      <td>418</td>\n",
       "      <td>31</td>\n",
       "      <td>...</td>\n",
       "      <td>400</td>\n",
       "      <td>75</td>\n",
       "      <td>-3</td>\n",
       "      <td>460</td>\n",
       "      <td>321</td>\n",
       "      <td>-102</td>\n",
       "      <td>203</td>\n",
       "      <td>-65</td>\n",
       "      <td>-229</td>\n",
       "      <td>-153</td>\n",
       "    </tr>\n",
       "  </tbody>\n",
       "</table>\n",
       "<p>119496 rows × 33 columns</p>\n",
       "</div>"
      ],
      "text/plain": [
       "                          id  Fp1  Fp2   F7   F3   Fz   F4   F8  FC5  FC1  \\\n",
       "0            subj1_series1_0  -31  363  211  121  211   15  717  279   35   \n",
       "1            subj1_series1_1  -29  342  216  123  222  200  595  329   43   \n",
       "2            subj1_series1_2 -172  278  105   93  222  511  471  280   12   \n",
       "3            subj1_series1_3 -272  263  -52   99  208  511  428  261   27   \n",
       "4            subj1_series1_4 -265  213  -67   99  155  380  476  353   32   \n",
       "...                      ...  ...  ...  ...  ...  ...  ...  ...  ...  ...   \n",
       "119491  subj1_series1_119491  478  520  377  172  141  118 -123  626   70   \n",
       "119492  subj1_series1_119492  439  450  298  185  128  502 -331  593   30   \n",
       "119493  subj1_series1_119493  363  370  278  239  124  768 -410  527   16   \n",
       "119494  subj1_series1_119494  281  298  318  257  130  736 -556  542   29   \n",
       "119495  subj1_series1_119495  242  266  234  176  135  617 -622  418   31   \n",
       "\n",
       "        ...   P7   P3   Pz   P4   P8  PO9   O1   Oz   O2  PO10  \n",
       "0       ...  536  348  383  105  607  289  459  173  120   704  \n",
       "1       ...  529  327  369   78  613  248  409  141   83   737  \n",
       "2       ...  511  319  355   66  606  320  440  141   62   677  \n",
       "3       ...  521  336  356   71  568  339  437  139   58   592  \n",
       "4       ...  550  324  346   76  547  343  446  171   67   581  \n",
       "...     ...  ...  ...  ...  ...  ...  ...  ...  ...  ...   ...  \n",
       "119491  ...  383   85   -1  444  337 -255  160 -121 -285  -178  \n",
       "119492  ...  334   61   -8  427  322 -310  107 -152 -295  -178  \n",
       "119493  ...  303   53  -24  438  368 -134  187  -99 -269  -121  \n",
       "119494  ...  341   50  -25  444  348 -135  181 -122 -290   -77  \n",
       "119495  ...  400   75   -3  460  321 -102  203  -65 -229  -153  \n",
       "\n",
       "[119496 rows x 33 columns]"
      ]
     },
     "execution_count": 4,
     "metadata": {},
     "output_type": "execute_result"
    }
   ],
   "source": [
    "dftraintotal"
   ]
  },
  {
   "attachments": {},
   "cell_type": "markdown",
   "metadata": {},
   "source": [
    "### first we have to do it by one channel only then i have to \n",
    "### do it for all channels and then the selected channels"
   ]
  },
  {
   "cell_type": "code",
   "execution_count": 5,
   "metadata": {},
   "outputs": [],
   "source": [
    "from tqdm import tqdm"
   ]
  },
  {
   "cell_type": "code",
   "execution_count": 6,
   "metadata": {},
   "outputs": [
    {
     "data": {
      "text/plain": [
       "array([ -31,  -29, -172, ...,  363,  281,  242])"
      ]
     },
     "execution_count": 6,
     "metadata": {},
     "output_type": "execute_result"
    }
   ],
   "source": [
    "y = np.array(dftraintotal[\"Fp1\"])\n",
    "y"
   ]
  },
  {
   "cell_type": "code",
   "execution_count": 7,
   "metadata": {},
   "outputs": [
    {
     "data": {
      "text/html": [
       "<div>\n",
       "<style scoped>\n",
       "    .dataframe tbody tr th:only-of-type {\n",
       "        vertical-align: middle;\n",
       "    }\n",
       "\n",
       "    .dataframe tbody tr th {\n",
       "        vertical-align: top;\n",
       "    }\n",
       "\n",
       "    .dataframe thead th {\n",
       "        text-align: right;\n",
       "    }\n",
       "</style>\n",
       "<table border=\"1\" class=\"dataframe\">\n",
       "  <thead>\n",
       "    <tr style=\"text-align: right;\">\n",
       "      <th></th>\n",
       "      <th>id</th>\n",
       "      <th>HandStart</th>\n",
       "      <th>FirstDigitTouch</th>\n",
       "      <th>BothStartLoadPhase</th>\n",
       "      <th>LiftOff</th>\n",
       "      <th>Replace</th>\n",
       "      <th>BothReleased</th>\n",
       "    </tr>\n",
       "  </thead>\n",
       "  <tbody>\n",
       "    <tr>\n",
       "      <th>0</th>\n",
       "      <td>subj1_series1_0</td>\n",
       "      <td>0</td>\n",
       "      <td>0</td>\n",
       "      <td>0</td>\n",
       "      <td>0</td>\n",
       "      <td>0</td>\n",
       "      <td>0</td>\n",
       "    </tr>\n",
       "    <tr>\n",
       "      <th>1</th>\n",
       "      <td>subj1_series1_1</td>\n",
       "      <td>0</td>\n",
       "      <td>0</td>\n",
       "      <td>0</td>\n",
       "      <td>0</td>\n",
       "      <td>0</td>\n",
       "      <td>0</td>\n",
       "    </tr>\n",
       "    <tr>\n",
       "      <th>2</th>\n",
       "      <td>subj1_series1_2</td>\n",
       "      <td>0</td>\n",
       "      <td>0</td>\n",
       "      <td>0</td>\n",
       "      <td>0</td>\n",
       "      <td>0</td>\n",
       "      <td>0</td>\n",
       "    </tr>\n",
       "    <tr>\n",
       "      <th>3</th>\n",
       "      <td>subj1_series1_3</td>\n",
       "      <td>0</td>\n",
       "      <td>0</td>\n",
       "      <td>0</td>\n",
       "      <td>0</td>\n",
       "      <td>0</td>\n",
       "      <td>0</td>\n",
       "    </tr>\n",
       "    <tr>\n",
       "      <th>4</th>\n",
       "      <td>subj1_series1_4</td>\n",
       "      <td>0</td>\n",
       "      <td>0</td>\n",
       "      <td>0</td>\n",
       "      <td>0</td>\n",
       "      <td>0</td>\n",
       "      <td>0</td>\n",
       "    </tr>\n",
       "    <tr>\n",
       "      <th>...</th>\n",
       "      <td>...</td>\n",
       "      <td>...</td>\n",
       "      <td>...</td>\n",
       "      <td>...</td>\n",
       "      <td>...</td>\n",
       "      <td>...</td>\n",
       "      <td>...</td>\n",
       "    </tr>\n",
       "    <tr>\n",
       "      <th>119491</th>\n",
       "      <td>subj1_series1_119491</td>\n",
       "      <td>0</td>\n",
       "      <td>0</td>\n",
       "      <td>0</td>\n",
       "      <td>0</td>\n",
       "      <td>0</td>\n",
       "      <td>0</td>\n",
       "    </tr>\n",
       "    <tr>\n",
       "      <th>119492</th>\n",
       "      <td>subj1_series1_119492</td>\n",
       "      <td>0</td>\n",
       "      <td>0</td>\n",
       "      <td>0</td>\n",
       "      <td>0</td>\n",
       "      <td>0</td>\n",
       "      <td>0</td>\n",
       "    </tr>\n",
       "    <tr>\n",
       "      <th>119493</th>\n",
       "      <td>subj1_series1_119493</td>\n",
       "      <td>0</td>\n",
       "      <td>0</td>\n",
       "      <td>0</td>\n",
       "      <td>0</td>\n",
       "      <td>0</td>\n",
       "      <td>0</td>\n",
       "    </tr>\n",
       "    <tr>\n",
       "      <th>119494</th>\n",
       "      <td>subj1_series1_119494</td>\n",
       "      <td>0</td>\n",
       "      <td>0</td>\n",
       "      <td>0</td>\n",
       "      <td>0</td>\n",
       "      <td>0</td>\n",
       "      <td>0</td>\n",
       "    </tr>\n",
       "    <tr>\n",
       "      <th>119495</th>\n",
       "      <td>subj1_series1_119495</td>\n",
       "      <td>0</td>\n",
       "      <td>0</td>\n",
       "      <td>0</td>\n",
       "      <td>0</td>\n",
       "      <td>0</td>\n",
       "      <td>0</td>\n",
       "    </tr>\n",
       "  </tbody>\n",
       "</table>\n",
       "<p>119496 rows × 7 columns</p>\n",
       "</div>"
      ],
      "text/plain": [
       "                          id  HandStart  FirstDigitTouch  BothStartLoadPhase  \\\n",
       "0            subj1_series1_0          0                0                   0   \n",
       "1            subj1_series1_1          0                0                   0   \n",
       "2            subj1_series1_2          0                0                   0   \n",
       "3            subj1_series1_3          0                0                   0   \n",
       "4            subj1_series1_4          0                0                   0   \n",
       "...                      ...        ...              ...                 ...   \n",
       "119491  subj1_series1_119491          0                0                   0   \n",
       "119492  subj1_series1_119492          0                0                   0   \n",
       "119493  subj1_series1_119493          0                0                   0   \n",
       "119494  subj1_series1_119494          0                0                   0   \n",
       "119495  subj1_series1_119495          0                0                   0   \n",
       "\n",
       "        LiftOff  Replace  BothReleased  \n",
       "0             0        0             0  \n",
       "1             0        0             0  \n",
       "2             0        0             0  \n",
       "3             0        0             0  \n",
       "4             0        0             0  \n",
       "...         ...      ...           ...  \n",
       "119491        0        0             0  \n",
       "119492        0        0             0  \n",
       "119493        0        0             0  \n",
       "119494        0        0             0  \n",
       "119495        0        0             0  \n",
       "\n",
       "[119496 rows x 7 columns]"
      ]
     },
     "execution_count": 7,
     "metadata": {},
     "output_type": "execute_result"
    }
   ],
   "source": [
    "dflabeltotal = pd.read_csv(\"./data/subj1_series1_events.csv\")\n",
    "dflabeltotal"
   ]
  },
  {
   "cell_type": "code",
   "execution_count": 8,
   "metadata": {},
   "outputs": [],
   "source": [
    "ylabel = np.array(dflabeltotal[\"HandStart\"])"
   ]
  },
  {
   "cell_type": "code",
   "execution_count": 9,
   "metadata": {},
   "outputs": [],
   "source": [
    "\n",
    "num_train_data = 100000\n",
    "num_test_data = 19496\n",
    "numinput = 250\n",
    "num_train_batch = 0"
   ]
  },
  {
   "cell_type": "code",
   "execution_count": 29,
   "metadata": {},
   "outputs": [],
   "source": [
    "# # def datamaker(num_train_data, num_test_data, numinput, num_train_batch, train_data, train_labels, y, ylabel):\n",
    "# for k in tqdm(range(num_train_data-numinput-1)):\n",
    "#     train_data = np.concatenate((train_data,y[k:k+numinput]));\n",
    "#     num_train_batch = num_train_batch + 1  \n",
    "\n",
    "# train_data = np.reshape(train_data, (num_train_batch,numinput))\n",
    "\n"
   ]
  },
  {
   "cell_type": "code",
   "execution_count": 10,
   "metadata": {},
   "outputs": [],
   "source": [
    "train_data = y[:num_train_data]"
   ]
  },
  {
   "cell_type": "code",
   "execution_count": 11,
   "metadata": {},
   "outputs": [
    {
     "data": {
      "text/plain": [
       "(100000,)"
      ]
     },
     "execution_count": 11,
     "metadata": {},
     "output_type": "execute_result"
    }
   ],
   "source": [
    "train_data.shape"
   ]
  },
  {
   "cell_type": "code",
   "execution_count": 12,
   "metadata": {},
   "outputs": [
    {
     "data": {
      "text/plain": [
       "19497"
      ]
     },
     "execution_count": 12,
     "metadata": {},
     "output_type": "execute_result"
    }
   ],
   "source": [
    "119246-99749"
   ]
  },
  {
   "cell_type": "code",
   "execution_count": 13,
   "metadata": {},
   "outputs": [],
   "source": [
    "train_labels = ylabel[0:num_train_data]"
   ]
  },
  {
   "cell_type": "code",
   "execution_count": 14,
   "metadata": {},
   "outputs": [
    {
     "data": {
      "text/plain": [
       "(100000,)"
      ]
     },
     "execution_count": 14,
     "metadata": {},
     "output_type": "execute_result"
    }
   ],
   "source": [
    "train_labels.shape"
   ]
  },
  {
   "cell_type": "code",
   "execution_count": 15,
   "metadata": {},
   "outputs": [
    {
     "data": {
      "text/plain": [
       "(119496,)"
      ]
     },
     "execution_count": 15,
     "metadata": {},
     "output_type": "execute_result"
    }
   ],
   "source": [
    "ylabel.shape"
   ]
  },
  {
   "cell_type": "code",
   "execution_count": null,
   "metadata": {},
   "outputs": [],
   "source": [
    "dftrain = pd.read_csv('./data/new/newtrainsubj1_series1_data.csv')\n",
    "dftrainlabel = pd.read_csv('./data/new/newtrainsubj1_series1_labels.csv')"
   ]
  },
  {
   "cell_type": "code",
   "execution_count": null,
   "metadata": {},
   "outputs": [],
   "source": [
    "train_data = np.array(dftrain)\n",
    "train_labels = np.array(dftrainlabel)"
   ]
  },
  {
   "cell_type": "code",
   "execution_count": 35,
   "metadata": {},
   "outputs": [],
   "source": [
    "dftrain = pd.read_csv('./data/new/newtrainsubj1_series1_data.csv')\n",
    "# dftrainlabel = pd.read_csv('./data/new/newtrainsubj1_series1_labels.csv')"
   ]
  },
  {
   "cell_type": "code",
   "execution_count": 4,
   "metadata": {},
   "outputs": [
    {
     "data": {
      "text/html": [
       "<div>\n",
       "<style scoped>\n",
       "    .dataframe tbody tr th:only-of-type {\n",
       "        vertical-align: middle;\n",
       "    }\n",
       "\n",
       "    .dataframe tbody tr th {\n",
       "        vertical-align: top;\n",
       "    }\n",
       "\n",
       "    .dataframe thead th {\n",
       "        text-align: right;\n",
       "    }\n",
       "</style>\n",
       "<table border=\"1\" class=\"dataframe\">\n",
       "  <thead>\n",
       "    <tr style=\"text-align: right;\">\n",
       "      <th></th>\n",
       "      <th>Unnamed: 0</th>\n",
       "      <th>0</th>\n",
       "      <th>1</th>\n",
       "      <th>2</th>\n",
       "      <th>3</th>\n",
       "      <th>4</th>\n",
       "      <th>5</th>\n",
       "      <th>6</th>\n",
       "      <th>7</th>\n",
       "      <th>8</th>\n",
       "      <th>...</th>\n",
       "      <th>240</th>\n",
       "      <th>241</th>\n",
       "      <th>242</th>\n",
       "      <th>243</th>\n",
       "      <th>244</th>\n",
       "      <th>245</th>\n",
       "      <th>246</th>\n",
       "      <th>247</th>\n",
       "      <th>248</th>\n",
       "      <th>249</th>\n",
       "    </tr>\n",
       "  </thead>\n",
       "  <tbody>\n",
       "    <tr>\n",
       "      <th>0</th>\n",
       "      <td>0</td>\n",
       "      <td>-6.710738</td>\n",
       "      <td>-6.704289</td>\n",
       "      <td>-7.165431</td>\n",
       "      <td>-7.487907</td>\n",
       "      <td>-7.465334</td>\n",
       "      <td>-7.429861</td>\n",
       "      <td>-7.113834</td>\n",
       "      <td>-6.684940</td>\n",
       "      <td>-6.472106</td>\n",
       "      <td>...</td>\n",
       "      <td>-6.085134</td>\n",
       "      <td>-5.843276</td>\n",
       "      <td>-5.759432</td>\n",
       "      <td>-5.956143</td>\n",
       "      <td>-6.072235</td>\n",
       "      <td>-6.262496</td>\n",
       "      <td>-6.268946</td>\n",
       "      <td>-6.091583</td>\n",
       "      <td>-6.056111</td>\n",
       "      <td>-5.962593</td>\n",
       "    </tr>\n",
       "    <tr>\n",
       "      <th>1</th>\n",
       "      <td>1</td>\n",
       "      <td>-6.704289</td>\n",
       "      <td>-7.165431</td>\n",
       "      <td>-7.487907</td>\n",
       "      <td>-7.465334</td>\n",
       "      <td>-7.429861</td>\n",
       "      <td>-7.113834</td>\n",
       "      <td>-6.684940</td>\n",
       "      <td>-6.472106</td>\n",
       "      <td>-6.291519</td>\n",
       "      <td>...</td>\n",
       "      <td>-5.843276</td>\n",
       "      <td>-5.759432</td>\n",
       "      <td>-5.956143</td>\n",
       "      <td>-6.072235</td>\n",
       "      <td>-6.262496</td>\n",
       "      <td>-6.268946</td>\n",
       "      <td>-6.091583</td>\n",
       "      <td>-6.056111</td>\n",
       "      <td>-5.962593</td>\n",
       "      <td>-6.020639</td>\n",
       "    </tr>\n",
       "    <tr>\n",
       "      <th>2</th>\n",
       "      <td>2</td>\n",
       "      <td>-7.165431</td>\n",
       "      <td>-7.487907</td>\n",
       "      <td>-7.465334</td>\n",
       "      <td>-7.429861</td>\n",
       "      <td>-7.113834</td>\n",
       "      <td>-6.684940</td>\n",
       "      <td>-6.472106</td>\n",
       "      <td>-6.291519</td>\n",
       "      <td>-6.323767</td>\n",
       "      <td>...</td>\n",
       "      <td>-5.759432</td>\n",
       "      <td>-5.956143</td>\n",
       "      <td>-6.072235</td>\n",
       "      <td>-6.262496</td>\n",
       "      <td>-6.268946</td>\n",
       "      <td>-6.091583</td>\n",
       "      <td>-6.056111</td>\n",
       "      <td>-5.962593</td>\n",
       "      <td>-6.020639</td>\n",
       "      <td>-6.091583</td>\n",
       "    </tr>\n",
       "    <tr>\n",
       "      <th>3</th>\n",
       "      <td>3</td>\n",
       "      <td>-7.487907</td>\n",
       "      <td>-7.465334</td>\n",
       "      <td>-7.429861</td>\n",
       "      <td>-7.113834</td>\n",
       "      <td>-6.684940</td>\n",
       "      <td>-6.472106</td>\n",
       "      <td>-6.291519</td>\n",
       "      <td>-6.323767</td>\n",
       "      <td>-6.275395</td>\n",
       "      <td>...</td>\n",
       "      <td>-5.956143</td>\n",
       "      <td>-6.072235</td>\n",
       "      <td>-6.262496</td>\n",
       "      <td>-6.268946</td>\n",
       "      <td>-6.091583</td>\n",
       "      <td>-6.056111</td>\n",
       "      <td>-5.962593</td>\n",
       "      <td>-6.020639</td>\n",
       "      <td>-6.091583</td>\n",
       "      <td>-6.204450</td>\n",
       "    </tr>\n",
       "    <tr>\n",
       "      <th>4</th>\n",
       "      <td>4</td>\n",
       "      <td>-7.465334</td>\n",
       "      <td>-7.429861</td>\n",
       "      <td>-7.113834</td>\n",
       "      <td>-6.684940</td>\n",
       "      <td>-6.472106</td>\n",
       "      <td>-6.291519</td>\n",
       "      <td>-6.323767</td>\n",
       "      <td>-6.275395</td>\n",
       "      <td>-6.365688</td>\n",
       "      <td>...</td>\n",
       "      <td>-6.072235</td>\n",
       "      <td>-6.262496</td>\n",
       "      <td>-6.268946</td>\n",
       "      <td>-6.091583</td>\n",
       "      <td>-6.056111</td>\n",
       "      <td>-5.962593</td>\n",
       "      <td>-6.020639</td>\n",
       "      <td>-6.091583</td>\n",
       "      <td>-6.204450</td>\n",
       "      <td>-6.223799</td>\n",
       "    </tr>\n",
       "    <tr>\n",
       "      <th>...</th>\n",
       "      <td>...</td>\n",
       "      <td>...</td>\n",
       "      <td>...</td>\n",
       "      <td>...</td>\n",
       "      <td>...</td>\n",
       "      <td>...</td>\n",
       "      <td>...</td>\n",
       "      <td>...</td>\n",
       "      <td>...</td>\n",
       "      <td>...</td>\n",
       "      <td>...</td>\n",
       "      <td>...</td>\n",
       "      <td>...</td>\n",
       "      <td>...</td>\n",
       "      <td>...</td>\n",
       "      <td>...</td>\n",
       "      <td>...</td>\n",
       "      <td>...</td>\n",
       "      <td>...</td>\n",
       "      <td>...</td>\n",
       "      <td>...</td>\n",
       "    </tr>\n",
       "    <tr>\n",
       "      <th>99744</th>\n",
       "      <td>99744</td>\n",
       "      <td>-6.455982</td>\n",
       "      <td>-6.597872</td>\n",
       "      <td>-6.830055</td>\n",
       "      <td>-6.901000</td>\n",
       "      <td>-6.752660</td>\n",
       "      <td>-6.520477</td>\n",
       "      <td>-6.443083</td>\n",
       "      <td>-6.468881</td>\n",
       "      <td>-6.507578</td>\n",
       "      <td>...</td>\n",
       "      <td>-5.801354</td>\n",
       "      <td>-5.952918</td>\n",
       "      <td>-5.901322</td>\n",
       "      <td>-5.978717</td>\n",
       "      <td>-6.233473</td>\n",
       "      <td>-6.165753</td>\n",
       "      <td>-6.052886</td>\n",
       "      <td>-6.123831</td>\n",
       "      <td>-6.256046</td>\n",
       "      <td>-6.385037</td>\n",
       "    </tr>\n",
       "    <tr>\n",
       "      <th>99745</th>\n",
       "      <td>99745</td>\n",
       "      <td>-6.597872</td>\n",
       "      <td>-6.830055</td>\n",
       "      <td>-6.901000</td>\n",
       "      <td>-6.752660</td>\n",
       "      <td>-6.520477</td>\n",
       "      <td>-6.443083</td>\n",
       "      <td>-6.468881</td>\n",
       "      <td>-6.507578</td>\n",
       "      <td>-6.617220</td>\n",
       "      <td>...</td>\n",
       "      <td>-5.952918</td>\n",
       "      <td>-5.901322</td>\n",
       "      <td>-5.978717</td>\n",
       "      <td>-6.233473</td>\n",
       "      <td>-6.165753</td>\n",
       "      <td>-6.052886</td>\n",
       "      <td>-6.123831</td>\n",
       "      <td>-6.256046</td>\n",
       "      <td>-6.385037</td>\n",
       "      <td>-6.572074</td>\n",
       "    </tr>\n",
       "    <tr>\n",
       "      <th>99746</th>\n",
       "      <td>99746</td>\n",
       "      <td>-6.830055</td>\n",
       "      <td>-6.901000</td>\n",
       "      <td>-6.752660</td>\n",
       "      <td>-6.520477</td>\n",
       "      <td>-6.443083</td>\n",
       "      <td>-6.468881</td>\n",
       "      <td>-6.507578</td>\n",
       "      <td>-6.617220</td>\n",
       "      <td>-6.597872</td>\n",
       "      <td>...</td>\n",
       "      <td>-5.901322</td>\n",
       "      <td>-5.978717</td>\n",
       "      <td>-6.233473</td>\n",
       "      <td>-6.165753</td>\n",
       "      <td>-6.052886</td>\n",
       "      <td>-6.123831</td>\n",
       "      <td>-6.256046</td>\n",
       "      <td>-6.385037</td>\n",
       "      <td>-6.572074</td>\n",
       "      <td>-6.433409</td>\n",
       "    </tr>\n",
       "    <tr>\n",
       "      <th>99747</th>\n",
       "      <td>99747</td>\n",
       "      <td>-6.901000</td>\n",
       "      <td>-6.752660</td>\n",
       "      <td>-6.520477</td>\n",
       "      <td>-6.443083</td>\n",
       "      <td>-6.468881</td>\n",
       "      <td>-6.507578</td>\n",
       "      <td>-6.617220</td>\n",
       "      <td>-6.597872</td>\n",
       "      <td>-6.285069</td>\n",
       "      <td>...</td>\n",
       "      <td>-5.978717</td>\n",
       "      <td>-6.233473</td>\n",
       "      <td>-6.165753</td>\n",
       "      <td>-6.052886</td>\n",
       "      <td>-6.123831</td>\n",
       "      <td>-6.256046</td>\n",
       "      <td>-6.385037</td>\n",
       "      <td>-6.572074</td>\n",
       "      <td>-6.433409</td>\n",
       "      <td>-6.139955</td>\n",
       "    </tr>\n",
       "    <tr>\n",
       "      <th>99748</th>\n",
       "      <td>99748</td>\n",
       "      <td>-6.752660</td>\n",
       "      <td>-6.520477</td>\n",
       "      <td>-6.443083</td>\n",
       "      <td>-6.468881</td>\n",
       "      <td>-6.507578</td>\n",
       "      <td>-6.617220</td>\n",
       "      <td>-6.597872</td>\n",
       "      <td>-6.285069</td>\n",
       "      <td>-6.310867</td>\n",
       "      <td>...</td>\n",
       "      <td>-6.233473</td>\n",
       "      <td>-6.165753</td>\n",
       "      <td>-6.052886</td>\n",
       "      <td>-6.123831</td>\n",
       "      <td>-6.256046</td>\n",
       "      <td>-6.385037</td>\n",
       "      <td>-6.572074</td>\n",
       "      <td>-6.433409</td>\n",
       "      <td>-6.139955</td>\n",
       "      <td>-6.004515</td>\n",
       "    </tr>\n",
       "  </tbody>\n",
       "</table>\n",
       "<p>99749 rows × 251 columns</p>\n",
       "</div>"
      ],
      "text/plain": [
       "       Unnamed: 0         0         1         2         3         4         5  \\\n",
       "0               0 -6.710738 -6.704289 -7.165431 -7.487907 -7.465334 -7.429861   \n",
       "1               1 -6.704289 -7.165431 -7.487907 -7.465334 -7.429861 -7.113834   \n",
       "2               2 -7.165431 -7.487907 -7.465334 -7.429861 -7.113834 -6.684940   \n",
       "3               3 -7.487907 -7.465334 -7.429861 -7.113834 -6.684940 -6.472106   \n",
       "4               4 -7.465334 -7.429861 -7.113834 -6.684940 -6.472106 -6.291519   \n",
       "...           ...       ...       ...       ...       ...       ...       ...   \n",
       "99744       99744 -6.455982 -6.597872 -6.830055 -6.901000 -6.752660 -6.520477   \n",
       "99745       99745 -6.597872 -6.830055 -6.901000 -6.752660 -6.520477 -6.443083   \n",
       "99746       99746 -6.830055 -6.901000 -6.752660 -6.520477 -6.443083 -6.468881   \n",
       "99747       99747 -6.901000 -6.752660 -6.520477 -6.443083 -6.468881 -6.507578   \n",
       "99748       99748 -6.752660 -6.520477 -6.443083 -6.468881 -6.507578 -6.617220   \n",
       "\n",
       "              6         7         8  ...       240       241       242  \\\n",
       "0     -7.113834 -6.684940 -6.472106  ... -6.085134 -5.843276 -5.759432   \n",
       "1     -6.684940 -6.472106 -6.291519  ... -5.843276 -5.759432 -5.956143   \n",
       "2     -6.472106 -6.291519 -6.323767  ... -5.759432 -5.956143 -6.072235   \n",
       "3     -6.291519 -6.323767 -6.275395  ... -5.956143 -6.072235 -6.262496   \n",
       "4     -6.323767 -6.275395 -6.365688  ... -6.072235 -6.262496 -6.268946   \n",
       "...         ...       ...       ...  ...       ...       ...       ...   \n",
       "99744 -6.443083 -6.468881 -6.507578  ... -5.801354 -5.952918 -5.901322   \n",
       "99745 -6.468881 -6.507578 -6.617220  ... -5.952918 -5.901322 -5.978717   \n",
       "99746 -6.507578 -6.617220 -6.597872  ... -5.901322 -5.978717 -6.233473   \n",
       "99747 -6.617220 -6.597872 -6.285069  ... -5.978717 -6.233473 -6.165753   \n",
       "99748 -6.597872 -6.285069 -6.310867  ... -6.233473 -6.165753 -6.052886   \n",
       "\n",
       "            243       244       245       246       247       248       249  \n",
       "0     -5.956143 -6.072235 -6.262496 -6.268946 -6.091583 -6.056111 -5.962593  \n",
       "1     -6.072235 -6.262496 -6.268946 -6.091583 -6.056111 -5.962593 -6.020639  \n",
       "2     -6.262496 -6.268946 -6.091583 -6.056111 -5.962593 -6.020639 -6.091583  \n",
       "3     -6.268946 -6.091583 -6.056111 -5.962593 -6.020639 -6.091583 -6.204450  \n",
       "4     -6.091583 -6.056111 -5.962593 -6.020639 -6.091583 -6.204450 -6.223799  \n",
       "...         ...       ...       ...       ...       ...       ...       ...  \n",
       "99744 -5.978717 -6.233473 -6.165753 -6.052886 -6.123831 -6.256046 -6.385037  \n",
       "99745 -6.233473 -6.165753 -6.052886 -6.123831 -6.256046 -6.385037 -6.572074  \n",
       "99746 -6.165753 -6.052886 -6.123831 -6.256046 -6.385037 -6.572074 -6.433409  \n",
       "99747 -6.052886 -6.123831 -6.256046 -6.385037 -6.572074 -6.433409 -6.139955  \n",
       "99748 -6.123831 -6.256046 -6.385037 -6.572074 -6.433409 -6.139955 -6.004515  \n",
       "\n",
       "[99749 rows x 251 columns]"
      ]
     },
     "execution_count": 4,
     "metadata": {},
     "output_type": "execute_result"
    }
   ],
   "source": [
    "dftrain"
   ]
  },
  {
   "cell_type": "code",
   "execution_count": 38,
   "metadata": {},
   "outputs": [],
   "source": [
    "# dftrainlabel = pd.DataFrame(train_labels)\n",
    "# # dftrain.drop(['Unnamed: 0'], axis=1, inplace=True)\n",
    "# # dftrainlabel.drop(['Unnamed: 0'], axis=1, inplace=True)\n",
    "# dftrainlabel.to_csv('./data/new/newtrainsubj1_series1_labels.csv', index=False)\n",
    "# dftrain.to_csv('./data/new/newtrainsubj1_series1_data.csv', index=False)"
   ]
  },
  {
   "cell_type": "code",
   "execution_count": 16,
   "metadata": {},
   "outputs": [],
   "source": [
    "model = eegmodel()\n",
    "optimizer = tf.keras.optimizers.Adam()\n",
    "model.compile(loss='mse',\n",
    "                optimizer=optimizer,\n",
    "                metrics=['mae']) \n",
    "model.build(input_shape=(None, 250))"
   ]
  },
  {
   "cell_type": "code",
   "execution_count": 19,
   "metadata": {},
   "outputs": [
    {
     "data": {
      "text/plain": [
       "400.0"
      ]
     },
     "execution_count": 19,
     "metadata": {},
     "output_type": "execute_result"
    }
   ],
   "source": [
    "train_data.shape[0]/250"
   ]
  },
  {
   "cell_type": "code",
   "execution_count": 21,
   "metadata": {},
   "outputs": [
    {
     "data": {
      "text/plain": [
       "array([ -31,  -29, -172, ...,  363,  281,  242])"
      ]
     },
     "execution_count": 21,
     "metadata": {},
     "output_type": "execute_result"
    }
   ],
   "source": [
    "y"
   ]
  },
  {
   "cell_type": "code",
   "execution_count": 37,
   "metadata": {},
   "outputs": [],
   "source": [
    "train_data = train_data.reshape(400, 250)"
   ]
  },
  {
   "cell_type": "code",
   "execution_count": 38,
   "metadata": {},
   "outputs": [
    {
     "data": {
      "text/plain": [
       "(400, 250)"
      ]
     },
     "execution_count": 38,
     "metadata": {},
     "output_type": "execute_result"
    }
   ],
   "source": [
    "train_data.shape"
   ]
  },
  {
   "cell_type": "code",
   "execution_count": 23,
   "metadata": {},
   "outputs": [],
   "source": [
    "train_labels = train_labels.reshape(400, 250)\n",
    "finallabel = []\n",
    "for i in range(train_labels.shape[0]):\n",
    "    finallabel.append(max(train_labels[i]))"
   ]
  },
  {
   "cell_type": "code",
   "execution_count": 39,
   "metadata": {},
   "outputs": [
    {
     "data": {
      "text/plain": [
       "(400, 1)"
      ]
     },
     "execution_count": 39,
     "metadata": {},
     "output_type": "execute_result"
    }
   ],
   "source": [
    "train_labels = finallabel\n",
    "train_labels = np.array(train_labels)\n",
    "train_labels = train_labels.reshape(400, 1)\n",
    "train_labels.shape"
   ]
  },
  {
   "cell_type": "code",
   "execution_count": 40,
   "metadata": {},
   "outputs": [
    {
     "name": "stdout",
     "output_type": "stream",
     "text": [
      "Epoch 1/10\n"
     ]
    },
    {
     "name": "stderr",
     "output_type": "stream",
     "text": [
      "2023-03-17 16:44:29.571369: W tensorflow/core/platform/profile_utils/cpu_utils.cc:128] Failed to get CPU frequency: 0 Hz\n"
     ]
    },
    {
     "name": "stdout",
     "output_type": "stream",
     "text": [
      "10/10 - 2s - loss: 28.5451 - mae: 2.6116 - val_loss: 1.3284 - val_mae: 0.8140 - 2s/epoch - 162ms/step\n",
      "Epoch 2/10\n",
      "10/10 - 0s - loss: 1.1411 - mae: 0.7870 - val_loss: 0.9300 - val_mae: 0.7303 - 49ms/epoch - 5ms/step\n",
      "Epoch 3/10\n",
      "10/10 - 0s - loss: 0.9729 - mae: 0.7538 - val_loss: 0.8950 - val_mae: 0.7390 - 46ms/epoch - 5ms/step\n",
      "Epoch 4/10\n",
      "10/10 - 0s - loss: 0.8373 - mae: 0.6665 - val_loss: 0.7664 - val_mae: 0.6825 - 47ms/epoch - 5ms/step\n",
      "Epoch 5/10\n",
      "10/10 - 0s - loss: 1.1332 - mae: 0.7952 - val_loss: 0.6667 - val_mae: 0.6272 - 48ms/epoch - 5ms/step\n",
      "Epoch 6/10\n",
      "10/10 - 0s - loss: 0.6719 - mae: 0.6232 - val_loss: 0.3948 - val_mae: 0.4768 - 45ms/epoch - 4ms/step\n",
      "Epoch 7/10\n",
      "10/10 - 0s - loss: 0.7598 - mae: 0.4869 - val_loss: 3.0772 - val_mae: 0.9363 - 46ms/epoch - 5ms/step\n",
      "Epoch 8/10\n",
      "10/10 - 0s - loss: 0.3243 - mae: 0.3650 - val_loss: 0.6166 - val_mae: 0.5147 - 49ms/epoch - 5ms/step\n",
      "Epoch 9/10\n",
      "10/10 - 0s - loss: 0.2199 - mae: 0.2974 - val_loss: 0.5005 - val_mae: 0.4682 - 48ms/epoch - 5ms/step\n",
      "Epoch 10/10\n",
      "10/10 - 0s - loss: 0.1789 - mae: 0.2570 - val_loss: 0.5348 - val_mae: 0.4848 - 49ms/epoch - 5ms/step\n",
      "DNN training done. Time elapsed:  2.190944 s\n"
     ]
    },
    {
     "data": {
      "image/png": "[encoded data removed]",
      "text/plain": [
       "<Figure size 640x480 with 1 Axes>"
      ]
     },
     "metadata": {},
     "output_type": "display_data"
    }
   ],
   "source": [
    "EPOCHS = 10\n",
    "strt_time = datetime.datetime.now()\n",
    "history = model.fit(train_data, train_labels, epochs=EPOCHS,\n",
    "                  validation_split=0.2, verbose=2,\n",
    "                  callbacks=[])\n",
    "curr_time = datetime.datetime.now()\n",
    "timedelta = curr_time - strt_time\n",
    "dnn_train_time = timedelta.total_seconds()\n",
    "print(\"DNN training done. Time elapsed: \", timedelta.total_seconds(), \"s\")\n",
    "plt.plot(history.epoch, np.array(history.history['val_loss']),\n",
    "           label = 'Val loss')\n",
    "plt.show()"
   ]
  },
  {
   "cell_type": "code",
   "execution_count": null,
   "metadata": {},
   "outputs": [],
   "source": [
    "# num_test_batch = 0\n",
    "# strt_idx = num_train_batch\n",
    "# test_data=[]\n",
    "# for k in tqdm(range(strt_idx, strt_idx+num_test_data-numinput-1)):\n",
    "#   test_data = np.concatenate((test_data,y[k:k+numinput]));\n",
    "#   num_test_batch = num_test_batch + 1  \n",
    "# test_data = np.reshape(test_data, (num_test_batch, numinput))\n"
   ]
  },
  {
   "cell_type": "code",
   "execution_count": 53,
   "metadata": {},
   "outputs": [],
   "source": [
    "test_data = y[num_train_data:-246]\n",
    "test_labels = ylabel[num_train_data:-246]"
   ]
  },
  {
   "cell_type": "code",
   "execution_count": 55,
   "metadata": {},
   "outputs": [
    {
     "data": {
      "text/plain": [
       "(77, 250)"
      ]
     },
     "execution_count": 55,
     "metadata": {},
     "output_type": "execute_result"
    }
   ],
   "source": [
    "test_data = test_data.reshape(int(test_data.shape[0]/250), 250)\n",
    "test_data.shape"
   ]
  },
  {
   "cell_type": "code",
   "execution_count": 58,
   "metadata": {},
   "outputs": [],
   "source": [
    "test_labels= ylabel[num_train_data:-246]"
   ]
  },
  {
   "cell_type": "code",
   "execution_count": 60,
   "metadata": {},
   "outputs": [],
   "source": [
    "test_labels = test_labels.reshape(77, 250)"
   ]
  },
  {
   "cell_type": "code",
   "execution_count": 61,
   "metadata": {},
   "outputs": [
    {
     "data": {
      "text/plain": [
       "(77, 250)"
      ]
     },
     "execution_count": 61,
     "metadata": {},
     "output_type": "execute_result"
    }
   ],
   "source": [
    "test_labels.shape"
   ]
  },
  {
   "cell_type": "code",
   "execution_count": 62,
   "metadata": {},
   "outputs": [],
   "source": [
    "test_labels = test_labels.reshape(77, 250)\n",
    "finallabel = []\n",
    "for i in range(test_labels.shape[0]):\n",
    "    finallabel.append(max(test_labels[i]))"
   ]
  },
  {
   "cell_type": "code",
   "execution_count": 63,
   "metadata": {},
   "outputs": [
    {
     "data": {
      "text/plain": [
       "(77, 1)"
      ]
     },
     "execution_count": 63,
     "metadata": {},
     "output_type": "execute_result"
    }
   ],
   "source": [
    "test_labels = finallabel\n",
    "test_labels = np.array(test_labels)\n",
    "test_labels = test_labels.reshape(77, 1)\n",
    "test_labels.shape"
   ]
  },
  {
   "cell_type": "code",
   "execution_count": 44,
   "metadata": {},
   "outputs": [],
   "source": [
    "\n",
    "dft = pd.DataFrame(test_data)\n",
    "dft.to_csv('test_data.csv', index=False) \n",
    "dft = pd.DataFrame(test_labels)\n",
    "dft.to_csv('test_labels.csv', index=False)"
   ]
  },
  {
   "cell_type": "code",
   "execution_count": 9,
   "metadata": {},
   "outputs": [],
   "source": [
    "test_data = pd.read_csv('test_data.csv')"
   ]
  },
  {
   "cell_type": "code",
   "execution_count": 65,
   "metadata": {},
   "outputs": [
    {
     "name": "stdout",
     "output_type": "stream",
     "text": [
      "3/3 [==============================] - 0s 3ms/step\n"
     ]
    }
   ],
   "source": [
    "dnn_predictions = model.predict(test_data)\n",
    "# keras_dnn_err = test_labels - dnn_predictions\n",
    "# plt.plot(dnn_predictions[0:100])\n",
    "# plt.plot(test_labels[0:100],'r')\n",
    "# plt.show()\n",
    "# dnn_predictions.max()"
   ]
  },
  {
   "cell_type": "code",
   "execution_count": 66,
   "metadata": {},
   "outputs": [
    {
     "data": {
      "text/plain": [
       "array([[-0.0443135 ],\n",
       "       [-0.05399727],\n",
       "       [-0.04140594],\n",
       "       [-0.03201761],\n",
       "       [-0.10978156],\n",
       "       [ 0.62797064],\n",
       "       [-0.1571263 ],\n",
       "       [-0.06329773],\n",
       "       [-0.09092434],\n",
       "       [-0.0391513 ],\n",
       "       [-0.03784695],\n",
       "       [-0.02560533],\n",
       "       [-0.04141625],\n",
       "       [ 0.90974754],\n",
       "       [-0.02131157],\n",
       "       [-0.01206553],\n",
       "       [ 0.02664978],\n",
       "       [ 0.05589435],\n",
       "       [-0.05314032],\n",
       "       [-0.0436772 ],\n",
       "       [-0.11673357],\n",
       "       [ 0.02200584],\n",
       "       [ 0.00251403],\n",
       "       [-0.06124856],\n",
       "       [ 0.00251403],\n",
       "       [-0.11536945],\n",
       "       [-0.0521253 ],\n",
       "       [-0.25209644],\n",
       "       [-0.21598934],\n",
       "       [-0.00589697],\n",
       "       [ 0.8753057 ],\n",
       "       [ 0.7480055 ],\n",
       "       [-0.07282817],\n",
       "       [ 0.00251403],\n",
       "       [-0.02845492],\n",
       "       [ 0.34688455],\n",
       "       [-0.09711729],\n",
       "       [-0.05042119],\n",
       "       [-0.0202639 ],\n",
       "       [-0.06970041],\n",
       "       [-0.03081663],\n",
       "       [-0.06988687],\n",
       "       [-0.07942631],\n",
       "       [-0.10111162],\n",
       "       [-0.9962605 ],\n",
       "       [-0.07767049],\n",
       "       [-0.6665874 ],\n",
       "       [ 0.4158327 ],\n",
       "       [ 0.26526234],\n",
       "       [-0.02566742],\n",
       "       [-0.23034614],\n",
       "       [ 0.3819728 ],\n",
       "       [-0.13828126],\n",
       "       [ 0.36304227],\n",
       "       [-0.040424  ],\n",
       "       [ 0.12893884],\n",
       "       [ 1.4929703 ],\n",
       "       [ 1.2319725 ],\n",
       "       [-0.02081736],\n",
       "       [-0.0329312 ],\n",
       "       [-0.61337256],\n",
       "       [-0.03421051],\n",
       "       [ 0.00251403],\n",
       "       [-0.06161314],\n",
       "       [-0.11212011],\n",
       "       [-0.01850784],\n",
       "       [-0.0853379 ],\n",
       "       [-0.03584363],\n",
       "       [-0.08330753],\n",
       "       [ 0.80710274],\n",
       "       [-0.05644359],\n",
       "       [-0.12732625],\n",
       "       [ 0.00882652],\n",
       "       [-0.00784164],\n",
       "       [-0.22288398],\n",
       "       [-0.07474072],\n",
       "       [-0.03394628]], dtype=float32)"
      ]
     },
     "execution_count": 66,
     "metadata": {},
     "output_type": "execute_result"
    }
   ],
   "source": [
    "dnn_predictions"
   ]
  },
  {
   "cell_type": "code",
   "execution_count": 67,
   "metadata": {},
   "outputs": [],
   "source": [
    "pred = []\n",
    "for it in dnn_predictions:\n",
    "    if it > 0.5:\n",
    "        it = 1\n",
    "        pred.append(1)\n",
    "    else:\n",
    "        it = 0\n",
    "        pred.append(0)"
   ]
  },
  {
   "cell_type": "code",
   "execution_count": 69,
   "metadata": {},
   "outputs": [
    {
     "data": {
      "text/plain": [
       "(77,)"
      ]
     },
     "execution_count": 69,
     "metadata": {},
     "output_type": "execute_result"
    }
   ],
   "source": [
    "pred = np.array(pred)\n",
    "pred.shape"
   ]
  },
  {
   "cell_type": "code",
   "execution_count": 72,
   "metadata": {},
   "outputs": [
    {
     "name": "stdout",
     "output_type": "stream",
     "text": [
      "5\n",
      "13\n",
      "30\n",
      "31\n",
      "56\n",
      "57\n",
      "69\n"
     ]
    }
   ],
   "source": [
    "for i in range(len(pred)):\n",
    "    if pred[i] == 1:\n",
    "        print(i)"
   ]
  },
  {
   "cell_type": "code",
   "execution_count": 74,
   "metadata": {},
   "outputs": [
    {
     "name": "stdout",
     "output_type": "stream",
     "text": [
      "11\n",
      "23\n",
      "24\n",
      "37\n",
      "49\n",
      "50\n",
      "64\n",
      "65\n"
     ]
    }
   ],
   "source": [
    "for i in range(len(pred)):\n",
    "    if test_labels[i] == 1:\n",
    "        print(i)"
   ]
  },
  {
   "cell_type": "code",
   "execution_count": null,
   "metadata": {},
   "outputs": [],
   "source": []
  }
 ],
 "metadata": {
  "kernelspec": {
   "display_name": "tfenv",
   "language": "python",
   "name": "python3"
  },
  "language_info": {
   "codemirror_mode": {
    "name": "ipython",
    "version": 3
   },
   "file_extension": ".py",
   "mimetype": "text/x-python",
   "name": "python",
   "nbconvert_exporter": "python",
   "pygments_lexer": "ipython3",
   "version": "3.9.16"
  },
  "orig_nbformat": 4,
  "vscode": {
   "interpreter": {
    "hash": "391bae8954f3a6fc8838d3b381bb099ea8608f69b9d8f998099bd5f57e9e34dc"
   }
  }
 },
 "nbformat": 4,
 "nbformat_minor": 2
}
